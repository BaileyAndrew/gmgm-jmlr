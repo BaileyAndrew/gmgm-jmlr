{
 "cells": [
  {
   "cell_type": "code",
   "execution_count": 1,
   "metadata": {},
   "outputs": [],
   "source": [
    "import anndata as ad\n",
    "import pandas as pd\n",
    "import scanpy as sc\n",
    "import numpy as np\n",
    "import scipy.sparse as sparse\n",
    "from gprofiler import GProfiler\n",
    "import matplotlib.pyplot as plt\n",
    "import GmGM\n",
    "import math\n",
    "import BiGLasso_Methods as bg\n",
    "import scipy.stats as stats"
   ]
  },
  {
   "cell_type": "markdown",
   "metadata": {},
   "source": [
    "Single-cell eQTL mapping identifies cell type-specific genetic control of autoimmune disease"
   ]
  },
  {
   "cell_type": "code",
   "execution_count": 2,
   "metadata": {},
   "outputs": [
    {
     "data": {
      "text/plain": [
       "AnnData object with n_obs × n_vars = 1248980 × 36571 backed at 'data/million-cell/eQTLAutoimmune.h5ad'\n",
       "    obs: 'orig.ident', 'nCount_RNA', 'nFeature_RNA', 'percent.mt', 'donor_id', 'pool_number', 'predicted.celltype.l2', 'predicted.celltype.l2.score', 'age', 'organism_ontology_term_id', 'tissue_ontology_term_id', 'assay_ontology_term_id', 'disease_ontology_term_id', 'cell_type_ontology_term_id', 'self_reported_ethnicity_ontology_term_id', 'development_stage_ontology_term_id', 'sex_ontology_term_id', 'is_primary_data', 'suspension_type', 'cell_type', 'assay', 'disease', 'organism', 'sex', 'tissue', 'self_reported_ethnicity', 'development_stage'\n",
       "    var: 'vst.mean', 'vst.variance', 'vst.variance.expected', 'vst.variance.standardized', 'vst.variable', 'feature_is_filtered', 'feature_name', 'feature_reference', 'feature_biotype'\n",
       "    uns: 'cell_type_ontology_term_id_colors', 'default_embedding', 'schema_version', 'title'\n",
       "    obsm: 'X_azimuth_spca', 'X_azimuth_umap', 'X_harmony', 'X_pca', 'X_umap'\n",
       "    varm: 'PCs'"
      ]
     },
     "execution_count": 2,
     "metadata": {},
     "output_type": "execute_result"
    }
   ],
   "source": [
    "# Load the data in backed mode\n",
    "adata = ad.read_h5ad(\"data/million-cell/eQTLAutoimmune.h5ad\", backed=True, as_sparse=True)\n",
    "adata"
   ]
  },
  {
   "cell_type": "code",
   "execution_count": 3,
   "metadata": {},
   "outputs": [
    {
     "data": {
      "text/plain": [
       "1.1061691362823929"
      ]
     },
     "execution_count": 3,
     "metadata": {},
     "output_type": "execute_result"
    }
   ],
   "source": [
    "var_cutoff = adata.var['vst.variance.standardized'].sort_values(ascending=False)[2200]\n",
    "var_cutoff"
   ]
  },
  {
   "cell_type": "code",
   "execution_count": 4,
   "metadata": {},
   "outputs": [
    {
     "data": {
      "text/plain": [
       "View of AnnData object with n_obs × n_vars = 1248980 × 2200 backed at 'data/million-cell/eQTLAutoimmune.h5ad'\n",
       "    obs: 'orig.ident', 'nCount_RNA', 'nFeature_RNA', 'percent.mt', 'donor_id', 'pool_number', 'predicted.celltype.l2', 'predicted.celltype.l2.score', 'age', 'organism_ontology_term_id', 'tissue_ontology_term_id', 'assay_ontology_term_id', 'disease_ontology_term_id', 'cell_type_ontology_term_id', 'self_reported_ethnicity_ontology_term_id', 'development_stage_ontology_term_id', 'sex_ontology_term_id', 'is_primary_data', 'suspension_type', 'cell_type', 'assay', 'disease', 'organism', 'sex', 'tissue', 'self_reported_ethnicity', 'development_stage'\n",
       "    var: 'vst.mean', 'vst.variance', 'vst.variance.expected', 'vst.variance.standardized', 'vst.variable', 'feature_is_filtered', 'feature_name', 'feature_reference', 'feature_biotype'\n",
       "    uns: 'cell_type_ontology_term_id_colors', 'default_embedding', 'schema_version', 'title'\n",
       "    obsm: 'X_azimuth_spca', 'X_azimuth_umap', 'X_harmony', 'X_pca', 'X_umap'\n",
       "    varm: 'PCs'"
      ]
     },
     "execution_count": 4,
     "metadata": {},
     "output_type": "execute_result"
    }
   ],
   "source": [
    "genes_to_keep = (adata.var['vst.mean'] > 0) & (adata.var['vst.variance.standardized'] > var_cutoff)\n",
    "cells_to_keep = (adata.obs['nCount_RNA'] > 0)\n",
    "adata = adata[cells_to_keep, genes_to_keep]\n",
    "adata"
   ]
  },
  {
   "cell_type": "code",
   "execution_count": 5,
   "metadata": {},
   "outputs": [
    {
     "data": {
      "text/plain": [
       "Dataset(\n",
       "\tdata: ('cell', 'gene')\n",
       ")\n",
       "Axes(\n",
       "\tgene: 2200\n",
       "\t\tPrior: None\n",
       "\t\tGram: Not calculated\n",
       "\t\tEig: Not calculated\n",
       "\tcell: 1248980\n",
       "\t\tPrior: None\n",
       "\t\tGram: Not calculated\n",
       "\t\tEig: Not calculated\n",
       ")"
      ]
     },
     "execution_count": 5,
     "metadata": {},
     "output_type": "execute_result"
    }
   ],
   "source": [
    "dataset = GmGM.Dataset( # flipping in hopes it will prevent strange kernel crash\n",
    "    dataset={\"data\": adata.X[:, :]},\n",
    "    structure={\"data\": (\"cell\", \"gene\")}\n",
    ")\n",
    "dataset"
   ]
  },
  {
   "cell_type": "code",
   "execution_count": 6,
   "metadata": {},
   "outputs": [
    {
     "name": "stdout",
     "output_type": "stream",
     "text": [
      "Centering...\n",
      "Calculating eigenvectors...\n",
      "\tby calculating left eigenvectors and applying a rank-one update...\n",
      "\t\tComputing sparse normal map for axis='cell'...\n",
      "\t\t...Done computing sparse normal map\n",
      "\t\tExplained variance for axis='cell': 50.1170%\n",
      "\t\tComputing sparse normal map for axis='gene'...\n",
      "\t\t...Done computing sparse normal map\n",
      "\t\tExplained variance for axis='gene': 56.0291%\n",
      "Calculating eigenvalues...\n",
      "@0: 437837656.56057876 (-1796.8744436968539 + 437839453.4350225 + 0) ∆inf\n",
      "Converged! (@19: 219545349.60366392)\n",
      "Recomposing sparse precisions...\n"
     ]
    },
    {
     "name": "stderr",
     "output_type": "stream",
     "text": [
      "/Users/baileyandrew/mambaforge/envs/cnr-colab/lib/python3.9/site-packages/scipy/sparse/_index.py:145: SparseEfficiencyWarning: Changing the sparsity structure of a csr_matrix is expensive. lil_matrix is more efficient.\n",
      "  self._set_arrayXarray(i, j, x)\n"
     ]
    },
    {
     "name": "stdout",
     "output_type": "stream",
     "text": [
      "Done!\n"
     ]
    }
   ],
   "source": [
    "output = GmGM.GmGM(\n",
    "    dataset,\n",
    "    #to_keep={\"cell\": 0, \"gene\": 10},\n",
    "    #threshold_method=\"overall-col-weighted\",\n",
    "    threshold_method=\"bonferroni\",\n",
    "    to_keep={\"cell\": 0, \"gene\": 0.05},\n",
    "    min_edges={\"cell\": 0, \"gene\": 0},\n",
    "    n_comps=50,\n",
    "    verbose=True,\n",
    "    centering_method=None,\n",
    "    use_nonparanormal_skeptic=True,\n",
    "    nonparanormal_evec_backend=\"COCA\",\n",
    "    readonly=False,\n",
    "    calculate_explained_variance=True,\n",
    "    #_assume_sparse=True,\n",
    "    batch_size=1000\n",
    ")"
   ]
  },
  {
   "cell_type": "code",
   "execution_count": 7,
   "metadata": {},
   "outputs": [
    {
     "data": {
      "text/plain": [
       "True"
      ]
     },
     "execution_count": 7,
     "metadata": {},
     "output_type": "execute_result"
    }
   ],
   "source": [
    "(output.precision_matrices['gene'].data > 0).any()"
   ]
  },
  {
   "cell_type": "code",
   "execution_count": 12,
   "metadata": {},
   "outputs": [
    {
     "data": {
      "image/png": "[encoded data removed]",
      "text/plain": [
       "<Figure size 640x480 with 1 Axes>"
      ]
     },
     "metadata": {},
     "output_type": "display_data"
    }
   ],
   "source": [
    "fig, ax = plt.subplots()\n",
    "\n",
    "# Plot cumulative eigenvalues\n",
    "ax.plot((output.es['gene'] / output.total_variance['gene']).cumsum(), label=\"Gene variance\")\n",
    "ax.plot((output.es['cell'] / output.total_variance['cell']).cumsum(), label=\"Cell variance\")\n",
    "ax.set_title(\"Cumulative Explained Variance\")\n",
    "ax.legend()\n",
    "ax.set_xlabel(\"Number of components\")\n",
    "ax.set_ylabel(\"Explained variance\")\n",
    "\n",
    "# Explained variance cutoff\n",
    "# ax.axhline(1/3, color='k', linestyle='--')\n",
    "ax.axhline(1/2, color='k', linestyle='--')\n",
    "# ax.axhline(0.8, color='k', linestyle='--')\n",
    "\n",
    "\n",
    "ax.set_ylim(0, 1)\n",
    "ax.set_xlim(0, output.es['gene'].shape[0] - 1)\n",
    "\n",
    "fig.savefig(\"out-figs/million-cell-explained-variance.pdf\", bbox_inches='tight', dpi=300)"
   ]
  },
  {
   "cell_type": "code",
   "execution_count": 9,
   "metadata": {},
   "outputs": [],
   "source": [
    "sparse.save_npz(\n",
    "    \"out/million-cell-genes.npz\", output.precision_matrices['gene']\n",
    ")"
   ]
  },
  {
   "cell_type": "code",
   "execution_count": 10,
   "metadata": {},
   "outputs": [],
   "source": [
    "adata.var_names.to_series().to_csv(\"out/million-cell-genes.csv\", index=False)"
   ]
  },
  {
   "cell_type": "code",
   "execution_count": 11,
   "metadata": {},
   "outputs": [
    {
     "data": {
      "text/plain": [
       "<2200x2200 sparse array of type '<class 'numpy.float32'>'\n",
       "\twith 8090 stored elements in Compressed Sparse Row format>"
      ]
     },
     "execution_count": 11,
     "metadata": {},
     "output_type": "execute_result"
    }
   ],
   "source": [
    "sparse.load_npz(\"out/million-cell-genes.npz\")"
   ]
  }
 ],
 "metadata": {
  "kernelspec": {
   "display_name": "cnr-colab",
   "language": "python",
   "name": "python3"
  },
  "language_info": {
   "codemirror_mode": {
    "name": "ipython",
    "version": 3
   },
   "file_extension": ".py",
   "mimetype": "text/x-python",
   "name": "python",
   "nbconvert_exporter": "python",
   "pygments_lexer": "ipython3",
   "version": "3.9.18"
  }
 },
 "nbformat": 4,
 "nbformat_minor": 2
}
