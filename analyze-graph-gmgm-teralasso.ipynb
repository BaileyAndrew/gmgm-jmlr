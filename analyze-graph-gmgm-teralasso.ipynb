{
 "cells": [
  {
   "cell_type": "code",
   "execution_count": 1,
   "metadata": {},
   "outputs": [],
   "source": [
    "import anndata as ad\n",
    "import pandas as pd\n",
    "import numpy as np\n",
    "import igraph as ig\n",
    "from gprofiler import GProfiler\n",
    "import matplotlib.pyplot as plt\n",
    "import matplotlib.ticker as ticker\n",
    "import scanpy as sc\n",
    "from typing import Literal, Optional\n",
    "import os\n",
    "import seaborn as sns\n",
    "import warnings"
   ]
  },
  {
   "cell_type": "code",
   "execution_count": 2,
   "metadata": {},
   "outputs": [],
   "source": [
    "plt.style.use('tableau-colorblind10')"
   ]
  },
  {
   "cell_type": "code",
   "execution_count": 3,
   "metadata": {},
   "outputs": [
    {
     "data": {
      "text/plain": [
       "AnnData object with n_obs × n_vars = 2190 × 1466 backed at 'out/teralasso-E-GEOD-139324.h5ad'\n",
       "    obs: 'external_gene_name', 'external_gene_name_nonan', 'cell_count_fewer_than_three_across_all', 'unique_cell_count_across_all', 'cell_count_fewer_than_three_int', 'unique_cell_count_int'\n",
       "    var: 'individual', 'disease', 'infection', 'organism_part', 'kmeans_9', 'kmeans_15', 'kmeans_21', 'kmeans_24', 'kmeans_29', 'kmeans_48', 'kmeans_64', 'kmeans_81', 'kmeans_93', 'sample', 'gene_count', 'unique_gene_count'\n",
       "    obsp: 'gene'\n",
       "    varp: 'cell'"
      ]
     },
     "execution_count": 3,
     "metadata": {},
     "output_type": "execute_result"
    }
   ],
   "source": [
    "# Load the data in backed mode\n",
    "PCS = 1000\n",
    "MIN_EDGES = 5\n",
    "#RESULTS_DIR = f\"results-final-{PCS}pcs-{MIN_EDGES}minedges\"\n",
    "RESULTS_DIR = f\"results-gmgm-teralasso\"\n",
    "adata = ad.read_h5ad(f\"out/teralasso-E-GEOD-139324.h5ad\", backed=True)\n",
    "adata"
   ]
  },
  {
   "cell_type": "code",
   "execution_count": 4,
   "metadata": {},
   "outputs": [
    {
     "data": {
      "text/plain": [
       "(0.004513667354725715, 0.0)"
      ]
     },
     "execution_count": 4,
     "metadata": {},
     "output_type": "execute_result"
    }
   ],
   "source": [
    "gene_sparsity = adata.obsp['gene'].data.shape[0] / (adata.shape[0] ** 2)\n",
    "cell_sparsity = adata.varp['cell'].data.shape[0] / (adata.shape[1] ** 2)\n",
    "gene_sparsity, cell_sparsity"
   ]
  },
  {
   "cell_type": "markdown",
   "metadata": {},
   "source": [
    "# Look at how variants cluster together"
   ]
  },
  {
   "cell_type": "code",
   "execution_count": 5,
   "metadata": {},
   "outputs": [
    {
     "data": {
      "text/plain": [
       "LST1        8\n",
       "HLA-DMB     8\n",
       "HLA-DQB1    7\n",
       "HLA-A       7\n",
       "HLA-DPA1    7\n",
       "           ..\n",
       "EEF1D       2\n",
       "SQSTM1      2\n",
       "IFI27       2\n",
       "CHMP4A      2\n",
       "PRPF8       2\n",
       "Name: external_gene_name, Length: 86, dtype: int64"
      ]
     },
     "execution_count": 5,
     "metadata": {},
     "output_type": "execute_result"
    }
   ],
   "source": [
    "# Find the variants\n",
    "allele_vc = adata.obs[\"external_gene_name\"].value_counts()\n",
    "variants = allele_vc[\n",
    "    (allele_vc > 1)\n",
    "    & (allele_vc.index != \"Not in Biomart\")\n",
    "    & (allele_vc.index != \"Biomart NaN\")\n",
    "]\n",
    "variants"
   ]
  },
  {
   "cell_type": "code",
   "execution_count": 6,
   "metadata": {},
   "outputs": [],
   "source": [
    "shape_palette = 100*[\n",
    "    \"circle\",\n",
    "    \"rect\",\n",
    "    \"diamond\",\n",
    "    \"triangle\",\n",
    "    \"rect\",\n",
    "    \"circle\",\n",
    "    \"triangle\"\n",
    "]\n",
    "color_palette = 100*[\n",
    "    \"#FF9A96\",\n",
    "    \"#264589\",\n",
    "    \"#FF9A96\",\n",
    "    \"#264589\",\n",
    "    \"#FF9A96\",\n",
    "    \"#264589\",\n",
    "    \"#FF9A96\"\n",
    "]\n",
    "\n",
    "def plot_variant_info(\n",
    "    variant: str,\n",
    "    adata: ad.AnnData\n",
    ") -> tuple[plt.Figure, plt.Axes]:\n",
    "    vadata = adata[adata.obs[\"external_gene_name\"] == variant]\n",
    "    graph = vadata.obsp['gene']\n",
    "    how_many = graph.shape[0]\n",
    "\n",
    "    try:\n",
    "        # If the graph is empty, this throws an error!\n",
    "        graph = ig.Graph.Weighted_Adjacency(graph, mode=\"undirected\").simplify()\n",
    "    except:\n",
    "        graph = ig.Graph.Weighted_Adjacency(graph)\n",
    "    graph.vs[\"label\"] = vadata.obs_names.str.split('ENSG00000').str[-1]\n",
    "    graph.vs[\"label_size\"] = 5\n",
    "\n",
    "    # Get connected components of the graph\n",
    "    components = graph.components()\n",
    "\n",
    "    # Color vertex by component\n",
    "    graph.vs[\"color\"] = [color_palette[i] for i in components.membership]\n",
    "\n",
    "    # Change  vertex shape by component as well\n",
    "    graph.vs[\"shape\"] = [shape_palette[i] for i in components.membership]\n",
    "\n",
    "\n",
    "    fig, (ax1, ax2) = plt.subplots(figsize=(14, 7), ncols=2)\n",
    "    ig.plot(\n",
    "        graph,\n",
    "        vertex_size=40,\n",
    "        target=ax1,\n",
    "        edge_color=\"black\",\n",
    "        layout='circle'\n",
    "    )\n",
    "    ax1.set_facecolor(\"white\")\n",
    "    ax1.set_title(f\"{variant} (ENSG00000 + ID)\")\n",
    "    ax1.set_xlabel(\"Colored/shaped by connected components\")\n",
    "\n",
    "    degree_distribution = pd.Series(\n",
    "        graph.degree(),\n",
    "        index=graph.vs[\"label\"]\n",
    "    )\n",
    "    degree_distribution.sort_values(ascending=False).plot(\n",
    "        kind=\"bar\",\n",
    "        ax=ax2\n",
    "    )\n",
    "    ax2.set_title(f\"Subset degree distribution for {variant} alleles\")\n",
    "    ax2.set_yticks(degree_distribution.unique(), minor=True)\n",
    "    ax2.set_yticks(range(0, degree_distribution.max() + 2, degree_distribution.max() // 5 + 1), minor=False)\n",
    "    ax2.yaxis.set_minor_formatter(ticker.ScalarFormatter())\n",
    "    # make the y axis minor labels smaller\n",
    "    ax2.tick_params(axis='both', which='minor', labelsize=6)\n",
    "\n",
    "    ax2.set_ylim(0, degree_distribution.max() + 1)\n",
    "\n",
    "    # for every unique value in the degree distribution, add a horizontal line\n",
    "    for value in degree_distribution.unique():\n",
    "        ax2.axhline(value, color=\"black\", linestyle=\"--\", linewidth=0.5)\n",
    "\n",
    "    fig.suptitle(f\"The {how_many} alleles of {variant}\")\n",
    "    return fig, (ax1, ax2)"
   ]
  },
  {
   "cell_type": "code",
   "execution_count": 7,
   "metadata": {},
   "outputs": [
    {
     "data": {
      "text/plain": [
       "HLA-A       7\n",
       "HLA-C       6\n",
       "HLA-DPB1    6\n",
       "HLA-B       6\n",
       "LST1        5\n",
       "           ..\n",
       "IGHG4       1\n",
       "HLA-DMB     1\n",
       "IRF7        1\n",
       "IGSF6       1\n",
       "IGHGP       1\n",
       "Length: 86, dtype: int64"
      ]
     },
     "execution_count": 7,
     "metadata": {},
     "output_type": "execute_result"
    }
   ],
   "source": [
    "# Find number of connected components in every variant\n",
    "variant_ccs = pd.Series(\n",
    "    [\n",
    "        len(ig.Graph.Weighted_Adjacency(adata[adata.obs[\"external_gene_name\"] == variant].obsp['gene']).components())\n",
    "        for variant in variants.index\n",
    "    ],\n",
    "    index=variants.index,\n",
    ").sort_values(ascending=False)\n",
    "variant_ccs"
   ]
  },
  {
   "cell_type": "code",
   "execution_count": 8,
   "metadata": {},
   "outputs": [
    {
     "data": {
      "text/plain": [
       "Text(0, 0.5, 'Number of alleles')"
      ]
     },
     "execution_count": 8,
     "metadata": {},
     "output_type": "execute_result"
    },
    {
     "data": {
      "image/png": "[encoded data removed]",
      "text/plain": [
       "<Figure size 1400x700 with 2 Axes>"
      ]
     },
     "metadata": {},
     "output_type": "display_data"
    }
   ],
   "source": [
    "weighted_variant_ccs = variant_ccs / variants[variant_ccs.index]\n",
    "\n",
    "fig, axs = plt.subplots(figsize=(14, 7), ncols=2)\n",
    "ax1, ax2 = axs\n",
    "labels, counts = np.unique(variant_ccs, return_counts=True)\n",
    "ax1.bar(labels, counts, align='center')\n",
    "ax2.scatter(\n",
    "    weighted_variant_ccs,\n",
    "    variants[variant_ccs.index],\n",
    "    marker='+'\n",
    ")\n",
    "\n",
    "# Draw contours representing numbers of components\n",
    "for i in [1, 2, 3, 4, 5]:\n",
    "    xs = np.linspace(0.01, 1.02, 100)\n",
    "    ys = i / xs\n",
    "    ax2.plot(\n",
    "        xs,\n",
    "        ys,\n",
    "        color=\"#FF9A9644\",\n",
    "    )\n",
    "    plt.text(xs[-1], ys[-1], f'  {i} components', fontsize=8, color=\"#FF9A96\")\n",
    "\n",
    "# Draw \"fully disconnected\" box\n",
    "ax2.axvspan(0.98, 1.02, color=\"#FF9A9644\", alpha=0.5, hatch=\"//\")\n",
    "ax2.axvline(0.98, color=\"#FF0000\", linestyle=\"--\", linewidth=0.5)\n",
    "ax2.text(0.99, 5.25, \"  Fully disconnected\", fontsize=12, color=\"#FF0000\", rotation=90)\n",
    "\n",
    "# Axis limits\n",
    "ax1.set_xlim(0.5, variant_ccs.max()+0.5)\n",
    "ax2.set_xlim(0, 1.02)\n",
    "ax2.set_ylim(0, variants.max()+1)\n",
    "\n",
    "# Make sure ax1 ticks are only at integers\n",
    "ax1.xaxis.set_major_locator(ticker.MultipleLocator(1))\n",
    "\n",
    "# Turn off grid lines\n",
    "ax1.grid(False)\n",
    "ax2.grid(False)\n",
    "\n",
    "ax1.set_title(\"Number of connected components in each variant\")\n",
    "ax1.set_xlabel(\"Number of connected components\")\n",
    "ax1.set_ylabel(\"Frequency\")\n",
    "\n",
    "ax2.set_title(\"Number of connected components, weighted by number of alleles\")\n",
    "ax2.set_xlabel(\"Weighted number of connected components\")\n",
    "ax2.set_ylabel(\"Number of alleles\")"
   ]
  },
  {
   "cell_type": "code",
   "execution_count": 9,
   "metadata": {},
   "outputs": [
    {
     "data": {
      "text/plain": [
       "Text(0.5, 1.0, 'Allele connectivity')"
      ]
     },
     "execution_count": 9,
     "metadata": {},
     "output_type": "execute_result"
    },
    {
     "data": {
      "image/png": "[encoded data removed]",
      "text/plain": [
       "<Figure size 1400x700 with 1 Axes>"
      ]
     },
     "metadata": {},
     "output_type": "display_data"
    }
   ],
   "source": [
    "fig, ax = plt.subplots(figsize=(14, 7))\n",
    "\n",
    "num_disconnected = (weighted_variant_ccs == 1).sum()\n",
    "fully_disconnected_percent = num_disconnected / weighted_variant_ccs.size\n",
    "\n",
    "not_disconnected = weighted_variant_ccs != 1\n",
    "variant_ccs_not_disc = variant_ccs[weighted_variant_ccs.index][not_disconnected]\n",
    "\n",
    "disconnected = weighted_variant_ccs == 1\n",
    "variant_ccs_disc = variant_ccs[weighted_variant_ccs.index][disconnected]\n",
    "\n",
    "# connected components\n",
    "components_percent = {}\n",
    "num_components = {}\n",
    "for i in {1, 2, 3, 4, 5}:\n",
    "    num_components[i] = (variant_ccs_not_disc == i).sum()\n",
    "    components_percent[i] = num_components[i] / weighted_variant_ccs.size\n",
    "\n",
    "# disconnected components\n",
    "disc_components_percent = {}\n",
    "num_disc_components = {}\n",
    "for i in {2, 3, 4, 5, 6, 7}:\n",
    "    num_disc_components[i] = (variant_ccs_disc == i).sum()\n",
    "    disc_components_percent[i] = num_disc_components[i] / variant_ccs_disc.size\n",
    "\n",
    "# Bar plot of just fully disconnected\n",
    "cur_bottom_disc = 0\n",
    "bs = []\n",
    "for i in [3, 2]:\n",
    "    percent = num_disc_components[i] / num_disconnected\n",
    "    b = ax.bar(\n",
    "        [\"Disconnected Genes\"],\n",
    "        [percent],\n",
    "        bottom=[cur_bottom_disc],\n",
    "        label=f\"{i} components\"\n",
    "    )\n",
    "    cur_bottom_disc += percent\n",
    "    if num_disc_components[i] != 0:\n",
    "        ax.bar_label(b, label_type='center', labels=[\n",
    "            f\"{num_disc_components[i]} with {i} alleles ({b[0].get_height():.2%})\"\n",
    "        ])\n",
    "    bs.append(b)\n",
    "\n",
    "# Bar plot of disconnected vs not disconnected\n",
    "b1 = ax.bar(\n",
    "    [\"All genes\"],\n",
    "    [fully_disconnected_percent],\n",
    "    label=\"Fully disconnected\"\n",
    ")\n",
    "if num_disconnected != 0:\n",
    "    ax.bar_label(b1, label_type='center', labels=[\n",
    "        f\"{num_disconnected} fully disconnected ({x.get_height():.2%})\"\n",
    "        for idx, x in enumerate(b1)\n",
    "    ])\n",
    "\n",
    "# Put this bar plot as the primary\n",
    "bs = [b1] + bs\n",
    "\n",
    "# Connect the zoom-ins\n",
    "ax.plot(\n",
    "    [bs[0][0].get_x(), bs[1][0].get_x() + bs[1][0].get_width()],\n",
    "    [0, 0],\n",
    "    color='black',\n",
    "    linewidth=3\n",
    ")\n",
    "ax.plot(\n",
    "    [bs[0][0].get_x(), bs[1][0].get_x() + bs[1][0].get_width()],\n",
    "    [bs[0][0].get_height(), 1],\n",
    "    color='black',\n",
    "    linewidth=1\n",
    ")\n",
    "ax.fill_between(\n",
    "    [bs[0][0].get_x(), bs[1][0].get_x() + bs[1][0].get_width()],\n",
    "    [bs[0][0].get_height(), 1],\n",
    "    [0, 0],\n",
    "    color='black',\n",
    "    alpha=0.2,\n",
    ")\n",
    "\n",
    "# Reset bs\n",
    "bs = [b1]\n",
    "\n",
    "# Bar plot of not fully disconnected with i components\n",
    "cur_bottom_all = fully_disconnected_percent\n",
    "cur_bottom_conc = 0\n",
    "for i in [5, 3, 2, 1]:\n",
    "    percent = num_components[i] / sum(num_components.values())\n",
    "    b = ax.bar(\n",
    "        [\"All genes\", \"Connected Genes\"],\n",
    "        [components_percent[i], percent],\n",
    "        bottom=[cur_bottom_all, cur_bottom_conc],\n",
    "        label=f\"{i} components\"\n",
    "    )\n",
    "    cur_bottom_all += components_percent[i]\n",
    "    cur_bottom_conc += percent\n",
    "    off1 = \"\"\n",
    "    off2 = \"\"\n",
    "    if i == 4:\n",
    "        off2 += \"\"\n",
    "    if i == 3:\n",
    "        off2 += \"\"\n",
    "    if i == 2:\n",
    "        off2 += \"\" \n",
    "\n",
    "    # Don't put the bar label if the number is zero!\n",
    "    if num_components[i] != 0:\n",
    "        ax.bar_label(b, label_type='center', labels=[\n",
    "            \"\" if i != 1 else f\"{num_components[i]} with {i} components ({b[0].get_height():.2%})\",\n",
    "            f\"{off1}{num_components[i]} with {i} components ({b[1].get_height():.2%}){off2}\"\n",
    "        ])\n",
    "    bs.append(b)\n",
    "\n",
    "\n",
    "# Connect the zoom-ins\n",
    "ax.plot(\n",
    "    [bs[0][0].get_x() + bs[0][0].get_width(), bs[1][1].get_x()],\n",
    "    [1, 1],\n",
    "    color='black',\n",
    "    linewidth=1\n",
    ")\n",
    "ax.plot(\n",
    "    [bs[0][0].get_x() + bs[0][0].get_width(), bs[1][1].get_x()],\n",
    "    [bs[0][0].get_height(), 0],\n",
    "    color='black',\n",
    "    linewidth=1\n",
    ")\n",
    "ax.fill_between(\n",
    "    [bs[0][0].get_x() + bs[0][0].get_width(), bs[1][1].get_x()],\n",
    "    [1, 1],\n",
    "    [bs[0][0].get_height(), 0],\n",
    "    color='black',\n",
    "    alpha=0.2,\n",
    ")\n",
    "\n",
    "ax.set_title(\"Allele connectivity\")"
   ]
  },
  {
   "cell_type": "code",
   "execution_count": 10,
   "metadata": {},
   "outputs": [
    {
     "data": {
      "text/plain": [
       "HLA-C       6\n",
       "LST1        5\n",
       "HLA-DQA1    5\n",
       "HLA-DRA     5\n",
       "LAIR1       4\n",
       "HLA-DPA1    4\n",
       "HLA-DMA     3\n",
       "HLA-DQB1    3\n",
       "HLA-DRB1    3\n",
       "PSMB9       3\n",
       "CSNK2B      2\n",
       "HLA-F       2\n",
       "LILRA2      2\n",
       "GTF2H2      2\n",
       "SNHG32      2\n",
       "CHCHD10     1\n",
       "HSPA1B      1\n",
       "DERL3       1\n",
       "IFI27       1\n",
       "TAPBP       1\n",
       "CLIC1       1\n",
       "MRPS36      1\n",
       "HSPA1A      1\n",
       "TUBB        1\n",
       "HLA-DRB3    1\n",
       "CCL4L2      1\n",
       "YWHAE       1\n",
       "CCL3        1\n",
       "IER3        1\n",
       "SERPINF1    1\n",
       "IGHG4       1\n",
       "HLA-DMB     1\n",
       "IRF7        1\n",
       "IGSF6       1\n",
       "IGHGP       1\n",
       "dtype: int64"
      ]
     },
     "execution_count": 10,
     "metadata": {},
     "output_type": "execute_result"
    }
   ],
   "source": [
    "variant_ccs_not_disc"
   ]
  },
  {
   "cell_type": "code",
   "execution_count": 11,
   "metadata": {},
   "outputs": [
    {
     "data": {
      "text/plain": [
       "HLA-A       7\n",
       "HLA-DPB1    6\n",
       "HLA-B       6\n",
       "RPS9        5\n",
       "AIF1        4\n",
       "RPS18       3\n",
       "SMDT1       3\n",
       "CCL4        3\n",
       "HLA-E       3\n",
       "GPSM3       3\n",
       "LSP1        2\n",
       "B2M         2\n",
       "POLR2J3     2\n",
       "TRBC2       2\n",
       "VPS28       2\n",
       "IGHG3       2\n",
       "TBCD        2\n",
       "RPL41P2     2\n",
       "IGHM        2\n",
       "SERPINA1    2\n",
       "HERC2P9     2\n",
       "RPS17       2\n",
       "SLC43A2     2\n",
       "CCL5        2\n",
       "TAF15       2\n",
       "MIF         2\n",
       "IGHG2       2\n",
       "CFD         2\n",
       "HLA-DRB4    2\n",
       "IGHA2       2\n",
       "IGHA1       2\n",
       "PSMB3       2\n",
       "PRKACA      2\n",
       "SSBP1       2\n",
       "EEF1D       2\n",
       "SQSTM1      2\n",
       "CHMP4A      2\n",
       "TRBC1       2\n",
       "PTPRC       2\n",
       "LY6E        2\n",
       "CCL3L3      2\n",
       "CUTA        2\n",
       "CTSB        2\n",
       "APOBEC3A    2\n",
       "ARMC10      2\n",
       "PRPF8       2\n",
       "HNRNPH1     2\n",
       "METTL9      2\n",
       "LTB         2\n",
       "RNH1        2\n",
       "HNRNPR      2\n",
       "dtype: int64"
      ]
     },
     "execution_count": 11,
     "metadata": {},
     "output_type": "execute_result"
    }
   ],
   "source": [
    "variant_ccs_disc"
   ]
  },
  {
   "cell_type": "markdown",
   "metadata": {},
   "source": [
    "# Cluster the genes"
   ]
  },
  {
   "cell_type": "code",
   "execution_count": 12,
   "metadata": {},
   "outputs": [],
   "source": [
    "GENE_N_GLETON = 1 if MIN_EDGES > 0 else 25"
   ]
  },
  {
   "cell_type": "code",
   "execution_count": 13,
   "metadata": {},
   "outputs": [],
   "source": [
    "sc.tl.leiden(\n",
    "    adata,\n",
    "    resolution=1,\n",
    "    key_added=\"leiden_gene\",\n",
    "    obsp='gene',\n",
    "    random_state=0\n",
    ")"
   ]
  },
  {
   "cell_type": "code",
   "execution_count": 14,
   "metadata": {},
   "outputs": [
    {
     "name": "stderr",
     "output_type": "stream",
     "text": [
      "/var/folders/k0/qy74mdx10qs493700g929k5h0000gn/T/ipykernel_26555/2386063501.py:2: FutureWarning: The `inplace` parameter in pandas.Categorical.add_categories is deprecated and will be removed in a future version. Removing unused categories will always return a new Categorical object.\n",
      "  adata.obs['leiden_gene_processed'].cat.add_categories('Singleton', inplace=True)\n"
     ]
    },
    {
     "data": {
      "text/plain": [
       "0            1008\n",
       "Singleton     413\n",
       "1             214\n",
       "2             197\n",
       "3             114\n",
       "4             103\n",
       "5              40\n",
       "6              38\n",
       "7              33\n",
       "8              30\n",
       "Name: leiden_gene_processed, dtype: int64"
      ]
     },
     "execution_count": 14,
     "metadata": {},
     "output_type": "execute_result"
    }
   ],
   "source": [
    "adata.obs['leiden_gene_processed'] = adata.obs['leiden_gene'].astype('category')\n",
    "adata.obs['leiden_gene_processed'].cat.add_categories('Singleton', inplace=True)\n",
    "\n",
    "valcounts = adata.obs['leiden_gene_processed'].value_counts()\n",
    "adata.obs['leiden_gene_processed'][adata.obs['leiden_gene_processed'].isin(\n",
    "    valcounts[valcounts <= GENE_N_GLETON].index\n",
    ")] = 'Singleton'\n",
    "\n",
    "adata.obs['leiden_gene_processed'] = adata.obs['leiden_gene_processed'].cat.remove_unused_categories()\n",
    "adata.obs['leiden_gene_processed'].value_counts()"
   ]
  },
  {
   "cell_type": "code",
   "execution_count": 15,
   "metadata": {},
   "outputs": [
    {
     "data": {
      "text/plain": [
       "0    1008\n",
       "1     214\n",
       "2     197\n",
       "3     114\n",
       "4     103\n",
       "Name: leiden_gene_processed, dtype: int64"
      ]
     },
     "execution_count": 15,
     "metadata": {},
     "output_type": "execute_result"
    }
   ],
   "source": [
    "adata.obs['leiden_gene_processed'].value_counts().drop(\"Singleton\")[:5]"
   ]
  },
  {
   "cell_type": "code",
   "execution_count": 16,
   "metadata": {},
   "outputs": [],
   "source": [
    "def create_pathway_df(\n",
    "    adata: ad.AnnData,\n",
    "    leiden_string: str = \"leiden_gene_processed\",\n",
    "    save: bool = False,\n",
    "    species: Literal[\"hsapiens\", \"mmusculus\"] = \"hsapiens\",\n",
    ") -> pd.DataFrame:\n",
    "    gp = GProfiler(return_dataframe=True)\n",
    "    pathway_df = gp.profile(\n",
    "        organism=species,\n",
    "        query={\n",
    "            f\"Module {module}\": adata[adata.obs[leiden_string] == module].obs_names.values.tolist()\n",
    "            for module in adata.obs[leiden_string].unique()\n",
    "        },\n",
    "    )\n",
    "    if save:\n",
    "        if not os.path.exists(RESULTS_DIR):\n",
    "            os.makedirs(RESULTS_DIR)\n",
    "        pathway_df.to_csv(f\"./{RESULTS_DIR}/pathways.csv\")\n",
    "    return pathway_df\n",
    "\n",
    "pathway_df = create_pathway_df(adata, save=True)"
   ]
  },
  {
   "cell_type": "code",
   "execution_count": 17,
   "metadata": {},
   "outputs": [
    {
     "data": {
      "text/html": [
       "<div>\n",
       "<style scoped>\n",
       "    .dataframe tbody tr th:only-of-type {\n",
       "        vertical-align: middle;\n",
       "    }\n",
       "\n",
       "    .dataframe tbody tr th {\n",
       "        vertical-align: top;\n",
       "    }\n",
       "\n",
       "    .dataframe thead th {\n",
       "        text-align: right;\n",
       "    }\n",
       "</style>\n",
       "<table border=\"1\" class=\"dataframe\">\n",
       "  <thead>\n",
       "    <tr style=\"text-align: right;\">\n",
       "      <th></th>\n",
       "      <th>source</th>\n",
       "      <th>native</th>\n",
       "      <th>name</th>\n",
       "      <th>p_value</th>\n",
       "      <th>significant</th>\n",
       "      <th>description</th>\n",
       "      <th>term_size</th>\n",
       "      <th>query_size</th>\n",
       "      <th>intersection_size</th>\n",
       "      <th>effective_domain_size</th>\n",
       "      <th>precision</th>\n",
       "      <th>recall</th>\n",
       "      <th>query</th>\n",
       "      <th>parents</th>\n",
       "    </tr>\n",
       "  </thead>\n",
       "  <tbody>\n",
       "    <tr>\n",
       "      <th>884</th>\n",
       "      <td>WP</td>\n",
       "      <td>WP:WP2446</td>\n",
       "      <td>Retinoblastoma gene in cancer</td>\n",
       "      <td>6.912984e-09</td>\n",
       "      <td>True</td>\n",
       "      <td>Retinoblastoma gene in cancer</td>\n",
       "      <td>89</td>\n",
       "      <td>23</td>\n",
       "      <td>8</td>\n",
       "      <td>8286</td>\n",
       "      <td>0.347826</td>\n",
       "      <td>0.089888</td>\n",
       "      <td>Module 5</td>\n",
       "      <td>[WP:000000]</td>\n",
       "    </tr>\n",
       "    <tr>\n",
       "      <th>1329</th>\n",
       "      <td>HPA</td>\n",
       "      <td>HPA:0471471</td>\n",
       "      <td>skin 2; lymphocytes[≥Low]</td>\n",
       "      <td>2.855486e-06</td>\n",
       "      <td>True</td>\n",
       "      <td>skin 2; lymphocytes[≥Low]</td>\n",
       "      <td>802</td>\n",
       "      <td>32</td>\n",
       "      <td>14</td>\n",
       "      <td>11019</td>\n",
       "      <td>0.437500</td>\n",
       "      <td>0.017456</td>\n",
       "      <td>Module 5</td>\n",
       "      <td>[HPA:0470000]</td>\n",
       "    </tr>\n",
       "    <tr>\n",
       "      <th>1536</th>\n",
       "      <td>TF</td>\n",
       "      <td>TF:M00736_1</td>\n",
       "      <td>Factor: E2F-1:DP-1; motif: TTTCSCGC; match cla...</td>\n",
       "      <td>1.964065e-05</td>\n",
       "      <td>True</td>\n",
       "      <td>Factor: E2F-1:DP-1; motif: TTTCSCGC; match cla...</td>\n",
       "      <td>4779</td>\n",
       "      <td>36</td>\n",
       "      <td>25</td>\n",
       "      <td>20045</td>\n",
       "      <td>0.694444</td>\n",
       "      <td>0.005231</td>\n",
       "      <td>Module 5</td>\n",
       "      <td>[TF:M00736]</td>\n",
       "    </tr>\n",
       "  </tbody>\n",
       "</table>\n",
       "</div>"
      ],
      "text/plain": [
       "     source       native                                               name  \\\n",
       "884      WP    WP:WP2446                      Retinoblastoma gene in cancer   \n",
       "1329    HPA  HPA:0471471                          skin 2; lymphocytes[≥Low]   \n",
       "1536     TF  TF:M00736_1  Factor: E2F-1:DP-1; motif: TTTCSCGC; match cla...   \n",
       "\n",
       "           p_value  significant  \\\n",
       "884   6.912984e-09         True   \n",
       "1329  2.855486e-06         True   \n",
       "1536  1.964065e-05         True   \n",
       "\n",
       "                                            description  term_size  \\\n",
       "884                       Retinoblastoma gene in cancer         89   \n",
       "1329                          skin 2; lymphocytes[≥Low]        802   \n",
       "1536  Factor: E2F-1:DP-1; motif: TTTCSCGC; match cla...       4779   \n",
       "\n",
       "      query_size  intersection_size  effective_domain_size  precision  \\\n",
       "884           23                  8                   8286   0.347826   \n",
       "1329          32                 14                  11019   0.437500   \n",
       "1536          36                 25                  20045   0.694444   \n",
       "\n",
       "        recall     query        parents  \n",
       "884   0.089888  Module 5    [WP:000000]  \n",
       "1329  0.017456  Module 5  [HPA:0470000]  \n",
       "1536  0.005231  Module 5    [TF:M00736]  "
      ]
     },
     "execution_count": 17,
     "metadata": {},
     "output_type": "execute_result"
    }
   ],
   "source": [
    "pathway_df[pathway_df[\"query\"] == \"Module 5\"].head(3)"
   ]
  },
  {
   "cell_type": "code",
   "execution_count": 18,
   "metadata": {},
   "outputs": [],
   "source": [
    "def plot_graph(\n",
    "    module: str,\n",
    "    key: str,\n",
    "    obsp_or_varp: Literal[\"obsp\", \"varp\"] = \"obsp\",\n",
    "    leiden_string: str = \"leiden_gene_processed\",\n",
    "    vertex_names: Optional[str] = None,\n",
    "    top_genes: int = 25,\n",
    "    top_pathways: int = 10,\n",
    "    display_centrality: Literal[\"degree\", \"harmonic\", \"eigenvector_centrality\", \"betweenness\"] = \"degree\",\n",
    "    save: bool = False,\n",
    ") -> tuple[tuple[plt.Figure, plt.Axes], ig.Graph]:\n",
    "    # Create the graph for the specific module\n",
    "    if obsp_or_varp == \"obsp\":\n",
    "        module_idx = adata.obs[leiden_string] == module\n",
    "        name_source = adata[module_idx].obs_names\n",
    "        id = adata[module_idx].obs_names\n",
    "        if vertex_names is not None:\n",
    "            name_source = adata[module_idx].obs[vertex_names]\n",
    "        full_graph = adata[module_idx].obsp[key]\n",
    "    elif obsp_or_varp == \"varp\":\n",
    "        module_idx = adata.var[leiden_string] == module\n",
    "        name_source = adata[module_idx].var_names\n",
    "        id = adata[module_idx].var_names\n",
    "        if vertex_names is not None:\n",
    "            name_source = adata[module_idx].var[vertex_names]\n",
    "        full_graph = adata[module_idx].varp[key]\n",
    "    else:\n",
    "        raise ValueError(\"obsp_or_varp must be either 'obsp' or 'varp'\")\n",
    "    \n",
    "\n",
    "    uniques = list(set(name_source.tolist()))\n",
    "\n",
    "    # Plot and save the graph\n",
    "    graph = ig.Graph.Weighted_Adjacency(full_graph, mode=\"undirected\").simplify()\n",
    "    graph.contract_vertices(\n",
    "        [uniques.index(_) for _ in name_source],\n",
    "        combine_attrs=\"first\"\n",
    "    )\n",
    "    graph.simplify()\n",
    "    graph.vs[\"label\"] = name_source\n",
    "    graph.vs[\"label_size\"] = 7\n",
    "    fig, ax = plt.subplots(figsize=(7, 7))\n",
    "    ig.plot(\n",
    "        graph,\n",
    "        vertex_size=50,\n",
    "        target=ax,\n",
    "        edge_color=\"black\",\n",
    "    )\n",
    "    ax.set_facecolor(\"grey\")\n",
    "    ax.set_title(f\"Module {module}\")\n",
    "    if save:\n",
    "        # check if m{module} exists; if not, create it\n",
    "        if not os.path.exists(f\"./{RESULTS_DIR}/m{module}\"):\n",
    "            os.makedirs(f\"./{RESULTS_DIR}/m{module}\")\n",
    "        \n",
    "        plt.savefig(f\"./{RESULTS_DIR}/m{module}/graph.png\")\n",
    "\n",
    "        # Select the top 10 pathways for relevant sources\n",
    "        module_df = pathway_df[pathway_df[\"query\"] == f\"Module {module}\"]\n",
    "        res = pd.concat([\n",
    "            module_df[module_df[\"source\"] == \"GO:BP\"].head(top_pathways)[[\"source\", \"native\", \"name\", \"p_value\"]],\n",
    "            module_df[module_df[\"source\"] == \"GO:CC\"].head(top_pathways)[[\"source\", \"native\", \"name\", \"p_value\"]],\n",
    "            module_df[module_df[\"source\"] == \"GO:MF\"].head(top_pathways)[[\"source\", \"native\", \"name\", \"p_value\"]],\n",
    "            module_df[module_df[\"source\"] == \"KEGG\"].head(top_pathways)[[\"source\", \"native\", \"name\", \"p_value\"]],\n",
    "        ])\n",
    "        res.to_csv(f\"./{RESULTS_DIR}/m{module}/top_pathways.csv\", index=False)\n",
    "\n",
    "    return (fig, ax), graph\n"
   ]
  },
  {
   "cell_type": "code",
   "execution_count": 19,
   "metadata": {},
   "outputs": [],
   "source": [
    "for module in adata.obs[\"leiden_gene_processed\"].unique():\n",
    "    if module == \"Singleton\":\n",
    "        continue\n",
    "\n",
    "    # Just look at top 10\n",
    "    if module not in {\"0\", \"1\", \"2\", \"3\", \"4\", \"5\", \"6\", \"7\", \"8\", \"9\"}:\n",
    "        continue\n",
    "\n",
    "    (fig, _), _ = plot_graph(\n",
    "        module,\n",
    "        key=\"gene\",\n",
    "        save=True,\n",
    "        vertex_names=\"external_gene_name\",\n",
    "        top_genes=25,\n",
    "        top_pathways=10,\n",
    "        display_centrality=\"degree\",\n",
    "    )\n",
    "\n",
    "    # Close figures to prevent notebook slowing down.\n",
    "    plt.close(fig)"
   ]
  }
 ],
 "metadata": {
  "kernelspec": {
   "display_name": "cnr-colab",
   "language": "python",
   "name": "python3"
  },
  "language_info": {
   "codemirror_mode": {
    "name": "ipython",
    "version": 3
   },
   "file_extension": ".py",
   "mimetype": "text/x-python",
   "name": "python",
   "nbconvert_exporter": "python",
   "pygments_lexer": "ipython3",
   "version": "3.9.undefined"
  }
 },
 "nbformat": 4,
 "nbformat_minor": 2
}
